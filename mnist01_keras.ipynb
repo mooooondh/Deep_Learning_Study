{
 "cells": [
  {
   "cell_type": "code",
   "execution_count": 73,
   "metadata": {},
   "outputs": [],
   "source": [
    "from tensorflow import keras\n",
    "from book_ex.dataset.mnist import load_mnist"
   ]
  },
  {
   "cell_type": "code",
   "execution_count": 74,
   "metadata": {},
   "outputs": [],
   "source": [
    "(X_train, y_train), (X_test, y_test)= load_mnist(normalize= True, flatten= True, one_hot_label= False)"
   ]
  },
  {
   "cell_type": "code",
   "execution_count": 89,
   "metadata": {},
   "outputs": [],
   "source": [
    "model= keras.models.Sequential()\n",
    "model.add(keras.layers.Dense(100, activation= \"relu\"))\n",
    "model.add(keras.layers.Dense(10, activation= \"softmax\"))"
   ]
  },
  {
   "cell_type": "code",
   "execution_count": 90,
   "metadata": {},
   "outputs": [],
   "source": [
    "model.compile(loss= \"sparse_categorical_crossentropy\", optimizer= \"sgd\")"
   ]
  },
  {
   "cell_type": "code",
   "execution_count": 96,
   "metadata": {},
   "outputs": [
    {
     "name": "stdout",
     "output_type": "stream",
     "text": [
      "Epoch 1/30\n",
      "1875/1875 [==============================] - 1s 761us/step - loss: 0.2627\n",
      "Epoch 2/30\n",
      "1875/1875 [==============================] - 1s 791us/step - loss: 0.2587\n",
      "Epoch 3/30\n",
      "1875/1875 [==============================] - 1s 720us/step - loss: 0.2550\n",
      "Epoch 4/30\n",
      "1875/1875 [==============================] - 1s 721us/step - loss: 0.2515\n",
      "Epoch 5/30\n",
      "1875/1875 [==============================] - 1s 758us/step - loss: 0.2487\n",
      "Epoch 6/30\n",
      "1875/1875 [==============================] - 1s 728us/step - loss: 0.2458\n",
      "Epoch 7/30\n",
      "1875/1875 [==============================] - 1s 703us/step - loss: 0.2431\n",
      "Epoch 8/30\n",
      "1875/1875 [==============================] - 1s 734us/step - loss: 0.2406 \n",
      "Epoch 9/30\n",
      "1875/1875 [==============================] - 1s 709us/step - loss: 0.2384\n",
      "Epoch 10/30\n",
      "1875/1875 [==============================] - 1s 679us/step - loss: 0.2357\n",
      "Epoch 11/30\n",
      "1875/1875 [==============================] - 1s 684us/step - loss: 0.2335\n",
      "Epoch 12/30\n",
      "1875/1875 [==============================] - 1s 675us/step - loss: 0.2313\n",
      "Epoch 13/30\n",
      "1875/1875 [==============================] - 1s 689us/step - loss: 0.2294\n",
      "Epoch 14/30\n",
      "1875/1875 [==============================] - 1s 748us/step - loss: 0.2272 0s - \n",
      "Epoch 15/30\n",
      "1875/1875 [==============================] - 1s 769us/step - loss: 0.2254\n",
      "Epoch 16/30\n",
      "1875/1875 [==============================] - 1s 737us/step - loss: 0.2231 0s - lo\n",
      "Epoch 17/30\n",
      "1875/1875 [==============================] - 1s 737us/step - loss: 0.2218\n",
      "Epoch 18/30\n",
      "1875/1875 [==============================] - 1s 702us/step - loss: 0.2197\n",
      "Epoch 19/30\n",
      "1875/1875 [==============================] - 1s 710us/step - loss: 0.2181\n",
      "Epoch 20/30\n",
      "1875/1875 [==============================] - 1s 689us/step - loss: 0.2162 0s - l\n",
      "Epoch 21/30\n",
      "1875/1875 [==============================] - 1s 712us/step - loss: 0.2147\n",
      "Epoch 22/30\n",
      "1875/1875 [==============================] - 1s 730us/step - loss: 0.2132\n",
      "Epoch 23/30\n",
      "1875/1875 [==============================] - 1s 757us/step - loss: 0.2116 0s -\n",
      "Epoch 24/30\n",
      "1875/1875 [==============================] - 1s 698us/step - loss: 0.2102\n",
      "Epoch 25/30\n",
      "1875/1875 [==============================] - 1s 743us/step - loss: 0.2091\n",
      "Epoch 26/30\n",
      "1875/1875 [==============================] - 1s 753us/step - loss: 0.2077 0s\n",
      "Epoch 27/30\n",
      "1875/1875 [==============================] - 1s 717us/step - loss: 0.2066 0s\n",
      "Epoch 28/30\n",
      "1875/1875 [==============================] - 1s 692us/step - loss: 0.2053\n",
      "Epoch 29/30\n",
      "1875/1875 [==============================] - 1s 696us/step - loss: 0.2038\n",
      "Epoch 30/30\n",
      "1875/1875 [==============================] - 1s 688us/step - loss: 0.2028\n"
     ]
    }
   ],
   "source": [
    "history= model.fit(X_train, y_train, epochs= 30)"
   ]
  },
  {
   "cell_type": "code",
   "execution_count": 97,
   "metadata": {},
   "outputs": [],
   "source": [
    "import matplotlib.pyplot as plt\n",
    "import pandas as pd"
   ]
  },
  {
   "cell_type": "code",
   "execution_count": 98,
   "metadata": {},
   "outputs": [
    {
     "data": {
      "image/png": "[encoded data removed]",
      "text/plain": [
       "<Figure size 720x360 with 1 Axes>"
      ]
     },
     "metadata": {
      "needs_background": "light"
     },
     "output_type": "display_data"
    }
   ],
   "source": [
    "pd.DataFrame(history.history).plot(figsize= (10, 5))\n",
    "plt.grid(True)\n",
    "plt.gca().set_ylim(0, 1)\n",
    "plt.show()"
   ]
  },
  {
   "cell_type": "code",
   "execution_count": 99,
   "metadata": {},
   "outputs": [],
   "source": [
    "y_proba= model.predict(X_test)"
   ]
  },
  {
   "cell_type": "code",
   "execution_count": 100,
   "metadata": {},
   "outputs": [
    {
     "name": "stdout",
     "output_type": "stream",
     "text": [
      "accuracy:  0.9387\n"
     ]
    }
   ],
   "source": [
    "accuracy= 0\n",
    "y_pred= model.predict_classes(X_test)\n",
    "\n",
    "for i in range(len(X_test)):\n",
    "    if (y_pred[i]== y_test[i]):\n",
    "        accuracy+= 1\n",
    "        \n",
    "print(\"accuracy: \", accuracy/len(X_test))"
   ]
  },
  {
   "cell_type": "code",
   "execution_count": null,
   "metadata": {},
   "outputs": [],
   "source": []
  }
 ],
 "metadata": {
  "kernelspec": {
   "display_name": "Python 3",
   "language": "python",
   "name": "python3"
  },
  "language_info": {
   "codemirror_mode": {
    "name": "ipython",
    "version": 3
   },
   "file_extension": ".py",
   "mimetype": "text/x-python",
   "name": "python",
   "nbconvert_exporter": "python",
   "pygments_lexer": "ipython3",
   "version": "3.6.9"
  }
 },
 "nbformat": 4,
 "nbformat_minor": 4
}
