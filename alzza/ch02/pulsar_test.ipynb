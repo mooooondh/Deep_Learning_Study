{
 "cells": [
  {
   "cell_type": "code",
   "execution_count": 5,
   "metadata": {},
   "outputs": [],
   "source": [
    "%run ./pulsar.ipynb"
   ]
  },
  {
   "cell_type": "code",
   "execution_count": 6,
   "metadata": {},
   "outputs": [
    {
     "name": "stdout",
     "output_type": "stream",
     "text": [
      "Epoch1: loss= 0.154, accuracy= 0.959/0.972\n",
      "Epoch2: loss= 0.131, accuracy= 0.966/0.972\n",
      "Epoch3: loss= 0.136, accuracy= 0.967/0.970\n",
      "Epoch4: loss= 0.133, accuracy= 0.968/0.970\n",
      "Epoch5: loss= 0.121, accuracy= 0.968/0.969\n",
      "Epoch6: loss= 0.145, accuracy= 0.968/0.974\n",
      "Epoch7: loss= 0.122, accuracy= 0.970/0.975\n",
      "Epoch8: loss= 0.127, accuracy= 0.970/0.976\n",
      "Epoch9: loss= 0.125, accuracy= 0.970/0.976\n",
      "Epoch10: loss= 0.134, accuracy= 0.968/0.976\n",
      "\n",
      "Final test: final accuracy= 0.976\n"
     ]
    }
   ],
   "source": [
    "pulsar_exec()"
   ]
  },
  {
   "cell_type": "code",
   "execution_count": 7,
   "metadata": {},
   "outputs": [
    {
     "name": "stdout",
     "output_type": "stream",
     "text": [
      "Epoch20: loss= 0.092, accuracy= 0.973/0.973\n",
      "Epoch40: loss= 0.090, accuracy= 0.973/0.973\n",
      "Epoch60: loss= 0.090, accuracy= 0.974/0.974\n",
      "Epoch80: loss= 0.090, accuracy= 0.974/0.975\n",
      "Epoch100: loss= 0.089, accuracy= 0.974/0.973\n",
      "\n",
      "Final test: final accuracy= 0.973\n"
     ]
    }
   ],
   "source": [
    "pulsar_exec(epoch_count= 100, mb_size= 100, report= 20)"
   ]
  },
  {
   "cell_type": "code",
   "execution_count": null,
   "metadata": {},
   "outputs": [],
   "source": []
  }
 ],
 "metadata": {
  "kernelspec": {
   "display_name": "Python 3",
   "language": "python",
   "name": "python3"
  },
  "language_info": {
   "codemirror_mode": {
    "name": "ipython",
    "version": 3
   },
   "file_extension": ".py",
   "mimetype": "text/x-python",
   "name": "python",
   "nbconvert_exporter": "python",
   "pygments_lexer": "ipython3",
   "version": "3.6.12"
  }
 },
 "nbformat": 4,
 "nbformat_minor": 4
}
