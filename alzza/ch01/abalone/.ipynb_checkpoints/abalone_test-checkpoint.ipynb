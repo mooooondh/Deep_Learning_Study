{
 "cells": [
  {
   "cell_type": "code",
   "execution_count": 12,
   "metadata": {},
   "outputs": [],
   "source": [
    "%run abalone.ipynb"
   ]
  },
  {
   "cell_type": "code",
   "execution_count": 13,
   "metadata": {},
   "outputs": [
    {
     "name": "stdout",
     "output_type": "stream",
     "text": [
      "Epoch1: loss= 33.707, accuracy= 0.554/0.816\n",
      "Epoch2: loss= 8.238, accuracy= 0.818/0.818\n",
      "Epoch3: loss= 7.597, accuracy= 0.810/0.815\n",
      "Epoch4: loss= 7.487, accuracy= 0.809/0.812\n",
      "Epoch5: loss= 7.405, accuracy= 0.808/0.813\n",
      "Epoch6: loss= 7.335, accuracy= 0.808/0.813\n",
      "Epoch7: loss= 7.272, accuracy= 0.809/0.811\n",
      "Epoch8: loss= 7.222, accuracy= 0.807/0.813\n",
      "Epoch9: loss= 7.175, accuracy= 0.808/0.814\n",
      "Epoch10: loss= 7.133, accuracy= 0.809/0.813\n",
      "\n",
      "Final test: final accuracy= 0.813\n"
     ]
    }
   ],
   "source": [
    "abalone_exec()"
   ]
  },
  {
   "cell_type": "code",
   "execution_count": 14,
   "metadata": {},
   "outputs": [
    {
     "name": "stdout",
     "output_type": "stream",
     "text": [
      "[[0.98769075]\n",
      " [1.51532071]\n",
      " [1.6873666 ]\n",
      " [2.05740243]\n",
      " [1.62892025]\n",
      " [0.60655974]\n",
      " [2.38639424]\n",
      " [0.53231314]\n",
      " [0.46589665]\n",
      " [1.03504576]]\n",
      "[4.18823857]\n"
     ]
    }
   ],
   "source": [
    "print(weight)\n",
    "print(bias)"
   ]
  },
  {
   "cell_type": "code",
   "execution_count": 15,
   "metadata": {},
   "outputs": [
    {
     "name": "stdout",
     "output_type": "stream",
     "text": [
      "Epoch20: loss= 5.709, accuracy= 0.826/0.820\n",
      "Epoch40: loss= 5.227, accuracy= 0.834/0.830\n",
      "Epoch60: loss= 5.031, accuracy= 0.838/0.831\n",
      "Epoch80: loss= 4.956, accuracy= 0.839/0.827\n",
      "Epoch100: loss= 4.950, accuracy= 0.839/0.826\n",
      "\n",
      "Final test: final accuracy= 0.826\n"
     ]
    }
   ],
   "source": [
    "LEARNING_RATE= 0.1\n",
    "abalone_exec(epoch_count= 100, mb_size= 100, report= 20)"
   ]
  },
  {
   "cell_type": "code",
   "execution_count": null,
   "metadata": {},
   "outputs": [],
   "source": []
  }
 ],
 "metadata": {
  "kernelspec": {
   "display_name": "Python 3",
   "language": "python",
   "name": "python3"
  },
  "language_info": {
   "codemirror_mode": {
    "name": "ipython",
    "version": 3
   },
   "file_extension": ".py",
   "mimetype": "text/x-python",
   "name": "python",
   "nbconvert_exporter": "python",
   "pygments_lexer": "ipython3",
   "version": "3.6.12"
  }
 },
 "nbformat": 4,
 "nbformat_minor": 4
}
